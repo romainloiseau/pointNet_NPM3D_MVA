{
 "cells": [
  {
   "cell_type": "code",
   "execution_count": 1,
   "metadata": {},
   "outputs": [
    {
     "name": "stderr",
     "output_type": "stream",
     "text": [
      "Using TensorFlow backend.\n"
     ]
    }
   ],
   "source": [
    "%load_ext autoreload\n",
    "%autoreload 2\n",
    "import os\n",
    "import sys\n",
    "sys.path.append(\"code\")\n",
    "import numpy as np\n",
    "import matplotlib.pyplot as plt\n",
    "from tqdm import tqdm_notebook\n",
    "from keras_tqdm import TQDMNotebookCallback\n",
    "from npm3dGenerator_tree import NPM3DGenerator, NPM3DGenerator_full\n",
    "from models import build_point_net, save_model, load_model\n",
    "import utils_training as u_t"
   ]
  },
  {
   "cell_type": "code",
   "execution_count": null,
   "metadata": {
    "scrolled": false
   },
   "outputs": [
    {
     "data": {
      "application/vnd.jupyter.widget-view+json": {
       "model_id": "ea50f0906c2d41289ec048e4f85c6a43",
       "version_major": 2,
       "version_minor": 0
      },
      "text/plain": [
       "HBox(children=(IntProgress(value=0, max=2), HTML(value='')))"
      ]
     },
     "metadata": {},
     "output_type": "display_data"
    },
    {
     "name": "stdout",
     "output_type": "stream",
     "text": [
      "../Benchmark_MVA/training\\MiniLille2_tree.joblib\n",
      "LOADING TREE\n",
      "DONE\n",
      "MODIFIYING PATHS ../Benchmark_MVA/training\\MiniLille2.ply\n",
      "LOADING NORMALS ../Benchmark_MVA/training\\MiniLille2_normals.npy\n",
      "../Benchmark_MVA/training\\MiniParis1_tree.joblib\n",
      "LOADING TREE\n",
      "DONE\n",
      "MODIFIYING PATHS ../Benchmark_MVA/training\\MiniParis1.ply\n",
      "LOADING NORMALS ../Benchmark_MVA/training\\MiniParis1_normals.npy\n",
      "\n"
     ]
    },
    {
     "data": {
      "application/vnd.jupyter.widget-view+json": {
       "model_id": "689c21453d5d4dcd9a00094e362ad4f1",
       "version_major": 2,
       "version_minor": 0
      },
      "text/plain": [
       "HBox(children=(IntProgress(value=0, max=1), HTML(value='')))"
      ]
     },
     "metadata": {},
     "output_type": "display_data"
    },
    {
     "name": "stdout",
     "output_type": "stream",
     "text": [
      "../Benchmark_MVA/training\\MiniLille1_tree.joblib\n",
      "LOADING TREE\n",
      "DONE\n",
      "MODIFIYING PATHS ../Benchmark_MVA/training\\MiniLille1.ply\n",
      "LOADING NORMALS ../Benchmark_MVA/training\\MiniLille1_normals.npy\n",
      "\n"
     ]
    },
    {
     "data": {
      "application/vnd.jupyter.widget-view+json": {
       "model_id": "514c3628d75841fe88c41f6e64564e55",
       "version_major": 2,
       "version_minor": 0
      },
      "text/plain": [
       "HBox(children=(IntProgress(value=0, max=1536), HTML(value='')))"
      ]
     },
     "metadata": {},
     "output_type": "display_data"
    }
   ],
   "source": [
    "use_normals = True\n",
    "sample_uniformly_from_classes = True\n",
    "\n",
    "training_dataset = NPM3DGenerator(paths_to_keep = [1, 2], use_normals = use_normals,\n",
    "                                  sample_uniformly_from_classes = sample_uniformly_from_classes)\n",
    "validation_data = NPM3DGenerator(paths_to_keep = [0], use_normals = use_normals,\n",
    "                                 sample_uniformly_from_classes = sample_uniformly_from_classes, evaluation = True).get_data()\n",
    "print(training_dataset)\n",
    "training_dataset.show_samples()"
   ]
  },
  {
   "cell_type": "code",
   "execution_count": null,
   "metadata": {
    "scrolled": true
   },
   "outputs": [],
   "source": [
    "import keras\n",
    "\n",
    "batchnorm = True\n",
    "\n",
    "miou_metric = u_t.mIoU(training_dataset.n_classes)\n",
    "\n",
    "model = build_point_net(input_shape = (training_dataset.n_points, training_dataset.n_channels),\n",
    "                        output_shape = training_dataset.n_classes, normalize = batchnorm)\n",
    "#model = load_model(\"models/trained_{}_{}_{}\".format(training_dataset.n_points, training_dataset.n_channels, training_dataset.n_classes))\n",
    "model.compile(\"adam\", u_t.my_categorical_crossentropy, metrics = [\"accuracy\", miou_metric.miou])\n",
    "#keras.optimizers.Adam(lr=0.001, beta_1=0.75, beta_2=0.99, epsilon=None, decay=0.0, amsgrad=False)\n",
    "model.summary()"
   ]
  },
  {
   "cell_type": "code",
   "execution_count": null,
   "metadata": {
    "scrolled": false
   },
   "outputs": [],
   "source": [
    "from keras.callbacks import EarlyStopping\n",
    "\n",
    "n_epochs = 4\n",
    "patience = 5\n",
    "history = model.fit_generator(training_dataset, epochs = n_epochs,\n",
    "                              validation_data = validation_data,\n",
    "                              class_weight = training_dataset.class_weight,\n",
    "                              verbose = 0, callbacks=[EarlyStopping(monitor = 'val_loss', patience = patience, verbose = 0),\n",
    "                                                      TQDMNotebookCallback(leave_inner=True, leave_outer=True)])\n",
    "u_t.plot_history(history)"
   ]
  },
  {
   "cell_type": "code",
   "execution_count": null,
   "metadata": {},
   "outputs": [],
   "source": [
    "model_name = \"models/trained_{}_{}_{}__25e_uniform_nobatchnorm\".format(training_dataset.n_points, training_dataset.n_channels, training_dataset.n_classes)\n",
    "save_model(model, model_name)"
   ]
  },
  {
   "cell_type": "code",
   "execution_count": null,
   "metadata": {
    "scrolled": false
   },
   "outputs": [],
   "source": [
    "training_dataset = NPM3DGenerator(paths_to_keep = [1, 2], use_normals = use_normals, sample_uniformly_from_classes = True)\n",
    "print(training_dataset)\n",
    "training_dataset.show_samples()\n",
    "\n",
    "n_epochs = 200\n",
    "patience = 10\n",
    "history = model.fit_generator(training_dataset, epochs = n_epochs,\n",
    "                              validation_data = validation_data,\n",
    "                              class_weight = training_dataset.class_weight,\n",
    "                              verbose = 0, callbacks=[EarlyStopping(monitor = 'val_loss', patience = patience, verbose = 0),\n",
    "                                                      TQDMNotebookCallback(leave_inner=True, leave_outer=True)])\n",
    "u_t.plot_history(history)"
   ]
  },
  {
   "cell_type": "code",
   "execution_count": null,
   "metadata": {
    "scrolled": false
   },
   "outputs": [],
   "source": [
    "test_dataset = NPM3DGenerator(input_dir = \"../Benchmark_MVA/test\", train = False)\n",
    "#model = load_model(\"models/trained_{}_{}_{}\".format(test_dataset.n_points, test_dataset.n_channels, test_dataset.n_classes))\n",
    "probas, predictions = test_dataset.predict_point_cloud(model)\n",
    "try:np.savetxt('predictions_{}.txt'.format(model_name.split(\"/\")[-1]), predictions, fmt='%d')\n",
    "except:np.savetxt('predictions.txt', predictions, fmt='%d')\n",
    "\n",
    "plt.hist(predictions)\n",
    "plt.show()\n",
    "\n",
    "plt.figure(figsize = (15, 7))\n",
    "for i in range(test_dataset.n_classes):\n",
    "    plt.subplot(231 + i)\n",
    "    plt.title(test_dataset.class_dict[i + 1])\n",
    "    plt.hist(np.max(probas[predictions == 1 + i], axis = -1), normed = True)\n",
    "plt.show()"
   ]
  },
  {
   "cell_type": "code",
   "execution_count": null,
   "metadata": {},
   "outputs": [],
   "source": []
  }
 ],
 "metadata": {
  "kernelspec": {
   "display_name": "Python 3",
   "language": "python",
   "name": "python3"
  },
  "language_info": {
   "codemirror_mode": {
    "name": "ipython",
    "version": 3
   },
   "file_extension": ".py",
   "mimetype": "text/x-python",
   "name": "python",
   "nbconvert_exporter": "python",
   "pygments_lexer": "ipython3",
   "version": "3.6.7"
  }
 },
 "nbformat": 4,
 "nbformat_minor": 2
}
