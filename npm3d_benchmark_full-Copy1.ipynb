{
 "cells": [
  {
   "cell_type": "code",
   "execution_count": null,
   "metadata": {},
   "outputs": [],
   "source": [
    "%load_ext autoreload\n",
    "%autoreload 2\n",
    "import os\n",
    "import sys\n",
    "sys.path.append(\"code\")\n",
    "import numpy as np\n",
    "import matplotlib.pyplot as plt\n",
    "from keras_tqdm import TQDMNotebookCallback\n",
    "from npm3dGenerator_tree import NPM3DGenerator, NPM3DGenerator_full\n",
    "from models import build_point_net, save_model, load_model\n",
    "import utils_training as u_t"
   ]
  },
  {
   "cell_type": "code",
   "execution_count": null,
   "metadata": {
    "scrolled": false
   },
   "outputs": [],
   "source": [
    "training_dataset = NPM3DGenerator_full(paths_to_keep = [0, 1, 2, 3], sample_uniformly_from_classes = True,\n",
    "                                       use_reflectance = False)\n",
    "#validation_dataset = NPM3DGenerator_full(paths_to_keep = [0], sample_uniformly_from_classes = False,\n",
    "                                        # use_reflectance = False, evaluation = True).get_data()\n",
    "\n",
    "print(training_dataset)\n",
    "training_dataset.show_samples()"
   ]
  },
  {
   "cell_type": "code",
   "execution_count": null,
   "metadata": {},
   "outputs": [],
   "source": [
    "from keras import optimizers\n",
    "\n",
    "miou_metric = u_t.mIoU(training_dataset.n_classes)\n",
    "\n",
    "#model = build_point_net(input_shape = (training_dataset.n_points, training_dataset.n_channels),\n",
    "#                        output_shape = training_dataset.n_classes)\n",
    "#start_model = 13\n",
    "model = load_model(\"models/finetunedalllayers_{}_{}_{}_uniform_3e_alldata5e_noise11e_testclass5e\".format(training_dataset.n_points, training_dataset.n_channels, training_dataset.n_classes))\n",
    "model.compile(optimizers.Adam(lr=0.00001), u_t.my_categorical_crossentropy, metrics = [\"accuracy\", miou_metric.miou])\n",
    "model.summary()"
   ]
  },
  {
   "cell_type": "code",
   "execution_count": null,
   "metadata": {
    "scrolled": false
   },
   "outputs": [],
   "source": [
    "n_epochs = 5\n",
    "for i in range(n_epochs):\n",
    "    history = model.fit_generator(training_dataset, epochs = 1,\n",
    "                                  #validation_data = validation_dataset,\n",
    "                                  class_weight = training_dataset.class_weight,\n",
    "                                  verbose = 0, callbacks=[TQDMNotebookCallback(leave_inner=True, leave_outer=True)])\n",
    "    save_model(model, \"models/finetunedalllayers_{}_{}_{}_uniform_3e_alldata5e_noise11e_testclass5e_adam{}e\".format(training_dataset.n_points, training_dataset.n_channels, training_dataset.n_classes, i+1))"
   ]
  },
  {
   "cell_type": "code",
   "execution_count": null,
   "metadata": {},
   "outputs": [],
   "source": [
    "test_dataset = NPM3DGenerator_full(input_dir = \"../Benchmark/test_10_classes_subsampled_2\", train = False, use_reflectance = False)\n",
    "print(test_dataset)\n",
    "test_dataset.show_samples()\n",
    "model = load_model(\"models/finetunedalllayers_4096_9_9_uniform_3e_alldata5e_noise11e_testclass4e\")"
   ]
  },
  {
   "cell_type": "code",
   "execution_count": null,
   "metadata": {},
   "outputs": [],
   "source": [
    "probas, predictions = test_dataset.predict_point_cloud(model, index = 0)\n",
    "probas, predictions = test_dataset.predict_point_cloud(model, index = 1)\n",
    "probas, predictions = test_dataset.predict_point_cloud(model, index = 2)"
   ]
  },
  {
   "cell_type": "code",
   "execution_count": null,
   "metadata": {},
   "outputs": [],
   "source": [
    "probas, predictions = test_dataset.predict_point_cloud(model, index = 2)"
   ]
  },
  {
   "cell_type": "code",
   "execution_count": null,
   "metadata": {},
   "outputs": [],
   "source": []
  }
 ],
 "metadata": {
  "kernelspec": {
   "display_name": "Python 3",
   "language": "python",
   "name": "python3"
  },
  "language_info": {
   "codemirror_mode": {
    "name": "ipython",
    "version": 3
   },
   "file_extension": ".py",
   "mimetype": "text/x-python",
   "name": "python",
   "nbconvert_exporter": "python",
   "pygments_lexer": "ipython3",
   "version": "3.6.7"
  }
 },
 "nbformat": 4,
 "nbformat_minor": 2
}
