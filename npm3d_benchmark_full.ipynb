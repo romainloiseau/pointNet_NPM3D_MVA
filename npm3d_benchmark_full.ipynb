{
 "cells": [
  {
   "cell_type": "code",
   "execution_count": null,
   "metadata": {},
   "outputs": [],
   "source": [
    "%load_ext autoreload\n",
    "%autoreload 2\n",
    "import os\n",
    "import sys\n",
    "sys.path.append(\"code\")\n",
    "import numpy as np\n",
    "import matplotlib.pyplot as plt\n",
    "from keras_tqdm import TQDMNotebookCallback\n",
    "from npm3dGenerator_tree import NPM3DGenerator, NPM3DGenerator_full\n",
    "from models import build_point_net, save_model, load_model\n",
    "import utils_training as u_t"
   ]
  },
  {
   "cell_type": "code",
   "execution_count": null,
   "metadata": {
    "scrolled": false
   },
   "outputs": [],
   "source": [
    "training_dataset = NPM3DGenerator_full(paths_to_keep = [1, 2, 3], sample_uniformly_from_classes = True,\n",
    "                                       use_reflectance = False)\n",
    "validation_dataset = NPM3DGenerator_full(paths_to_keep = [0], sample_uniformly_from_classes = False,\n",
    "                                         use_reflectance = False, evaluation = True).get_data()\n",
    "\n",
    "print(training_dataset)\n",
    "training_dataset.show_samples()"
   ]
  },
  {
   "cell_type": "code",
   "execution_count": null,
   "metadata": {},
   "outputs": [],
   "source": [
    "miou_metric = u_t.mIoU(training_dataset.n_classes)\n",
    "\n",
    "#model = build_point_net(input_shape = (training_dataset.n_points, training_dataset.n_channels),\n",
    "#                        output_shape = training_dataset.n_classes)\n",
    "#start_model = 13\n",
    "#model = load_model(\"models/trained_{}epochs_uniform_{}_{}_{}\".format(start_model, training_dataset.n_points, training_dataset.n_channels, training_dataset.n_classes))\n",
    "#model.compile(\"adam\", u_t.my_categorical_crossentropy, metrics = [\"accuracy\", miou_metric.miou])\n",
    "#model.summary()"
   ]
  },
  {
   "cell_type": "code",
   "execution_count": null,
   "metadata": {},
   "outputs": [],
   "source": [
    "base_model = load_model(\"models/trained_4096_9_6__25e_uniform_nobatchnorm\")\n",
    "for layer in base_model.layers:\n",
    "    print(layer.name, layer.trainable)"
   ]
  },
  {
   "cell_type": "code",
   "execution_count": null,
   "metadata": {},
   "outputs": [],
   "source": [
    "from keras.models import Model\n",
    "from keras.layers import Conv1D\n",
    "\n",
    "conv34 = Conv1D(filters=training_dataset.n_classes,\n",
    "                kernel_size=(1), padding='valid', strides=(1),\n",
    "                activation=\"softmax\", name=\"conv34\")(base_model.layers[-2].output)\n",
    "        \n",
    "model = Model(inputs=base_model.input, outputs=conv34)\n",
    "\n",
    "for layer in base_model.layers:\n",
    "    layer.trainable = False\n",
    "model.compile(\"adam\", u_t.my_categorical_crossentropy, metrics = [\"accuracy\", miou_metric.miou])\n",
    "\n",
    "model.summary()"
   ]
  },
  {
   "cell_type": "code",
   "execution_count": null,
   "metadata": {
    "scrolled": false
   },
   "outputs": [],
   "source": [
    "n_epochs = 1\n",
    "for i in range(n_epochs):\n",
    "    history = model.fit_generator(training_dataset, epochs = 1,\n",
    "                                  validation_data = validation_dataset,\n",
    "                                  class_weight = training_dataset.class_weight,\n",
    "                                  verbose = 0, callbacks=[TQDMNotebookCallback(leave_inner=True, leave_outer=True)])\n",
    "    save_model(model, \"models/finetunedlastlayer_{}_{}_{}_uniform\".format(training_dataset.n_points, training_dataset.n_channels, training_dataset.n_classes))"
   ]
  },
  {
   "cell_type": "code",
   "execution_count": null,
   "metadata": {},
   "outputs": [],
   "source": [
    "for layer in base_model.layers:\n",
    "    if layer.name[:5] == \"conv3\":\n",
    "        layer.trainable = True\n",
    "    else:\n",
    "        layer.trainable = False\n",
    "model.compile(\"adam\", u_t.my_categorical_crossentropy, metrics = [\"accuracy\", miou_metric.miou])\n",
    "\n",
    "model.summary()"
   ]
  },
  {
   "cell_type": "code",
   "execution_count": null,
   "metadata": {},
   "outputs": [],
   "source": [
    "n_epochs = 2\n",
    "for i in range(n_epochs):\n",
    "    history = model.fit_generator(training_dataset, epochs = 1,\n",
    "                                  validation_data = validation_dataset,\n",
    "                                  class_weight = training_dataset.class_weight,\n",
    "                                  verbose = 0, callbacks=[TQDMNotebookCallback(leave_inner=True, leave_outer=True)])\n",
    "    save_model(model, \"models/finetunedlastblock_{}_{}_{}_uniform\".format(training_dataset.n_points, training_dataset.n_channels, training_dataset.n_classes))"
   ]
  },
  {
   "cell_type": "code",
   "execution_count": null,
   "metadata": {},
   "outputs": [],
   "source": [
    "save_model(model, \"trained_{}finalepochs_uniform_{}_{}_{}\".format(n_epochs + 3, training_dataset.n_points, training_dataset.n_channels, training_dataset.n_classes))"
   ]
  },
  {
   "cell_type": "code",
   "execution_count": null,
   "metadata": {},
   "outputs": [],
   "source": [
    "test_dataset = NPM3DGenerator_full(input_dir = \"../Benchmark/test_10_classes_subsampled_2\", train = False, use_reflectance = False)\n",
    "#model = load_model(\"trained_1epochs_uniform_{}_{}_{}\".format(test_dataset.n_points, test_dataset.n_channels, test_dataset.n_classes))"
   ]
  },
  {
   "cell_type": "code",
   "execution_count": null,
   "metadata": {},
   "outputs": [],
   "source": [
    "for d in range(3):\n",
    "    for i in range(25):\n",
    "        plt.hist(test_dataset.sample_point_cloud(d)[0][:, 0], alpha = .1, color = 'b')\n",
    "    plt.show()"
   ]
  },
  {
   "cell_type": "code",
   "execution_count": null,
   "metadata": {},
   "outputs": [],
   "source": [
    "probas, predictions = test_dataset.predict_point_cloud(model, index = 0)\n",
    "probas, predictions = test_dataset.predict_point_cloud(model, index = 1)\n",
    "probas, predictions = test_dataset.predict_point_cloud(model, index = 2)"
   ]
  },
  {
   "cell_type": "code",
   "execution_count": null,
   "metadata": {},
   "outputs": [],
   "source": [
    "probas, predictions = test_dataset.predict_point_cloud(model, index = 2)"
   ]
  },
  {
   "cell_type": "code",
   "execution_count": null,
   "metadata": {},
   "outputs": [],
   "source": []
  }
 ],
 "metadata": {
  "kernelspec": {
   "display_name": "Python 3",
   "language": "python",
   "name": "python3"
  },
  "language_info": {
   "codemirror_mode": {
    "name": "ipython",
    "version": 3
   },
   "file_extension": ".py",
   "mimetype": "text/x-python",
   "name": "python",
   "nbconvert_exporter": "python",
   "pygments_lexer": "ipython3",
   "version": "3.6.7"
  }
 },
 "nbformat": 4,
 "nbformat_minor": 2
}
